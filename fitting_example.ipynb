{
 "cells": [
  {
   "cell_type": "markdown",
   "id": "3466b2cf-3d0e-49bf-ab02-12273a386399",
   "metadata": {},
   "source": [
    "This is an example notebook showing how to use ntwk_fit module to do DCM fitting."
   ]
  },
  {
   "cell_type": "code",
   "execution_count": null,
   "id": "f2a59a2a-e090-4c32-aba7-30b8003a6199",
   "metadata": {
    "tags": []
   },
   "outputs": [],
   "source": [
    "import numpy as np\n",
    "import matplotlib.pyplot as plt\n",
    "import skrf as rf\n",
    "\n",
    "# Import fitting module\n",
    "from ntwk_fit import *"
   ]
  },
  {
   "cell_type": "code",
   "execution_count": null,
   "id": "a1d97f91-57fd-4d70-b8f2-76c1ee125ce8",
   "metadata": {
    "tags": []
   },
   "outputs": [],
   "source": [
    "# Create a Network instance from an s2p measurement file\n",
    "res_6G763 = rf.Network('res_6G763_ntwk.s2p')\n",
    "res_6G763.frequency.unit = 'GHz'"
   ]
  },
  {
   "cell_type": "code",
   "execution_count": null,
   "id": "72bcafc5-b055-4c5b-b2eb-9da430e031f9",
   "metadata": {},
   "outputs": [],
   "source": [
    "# Plot the magnitude and phase\n",
    "res_6G763 = rf.Network('res_6G763_ntwk.s2p')\n",
    "res_6G763.plot_s_mag(1,0)\n",
    "plt.show()\n",
    "res_6G763.plot_s_deg_unwrap(1,0)\n",
    "plt.show()"
   ]
  },
  {
   "cell_type": "code",
   "execution_count": null,
   "id": "52a23179-e0b8-4c9d-b267-f742b023adac",
   "metadata": {},
   "outputs": [],
   "source": [
    "# Use the last 100 points to determine the electrical delay, and remove it.\n",
    "removed_6G763 = remove_delay(res_6G763, 'absorption', L = -100, R = -1)\n",
    "removed_6G763.plot_s_deg_unwrap()\n",
    "\n",
    "# Note the legend shows 'S11', but it is because the network is only 1-port after processing"
   ]
  },
  {
   "cell_type": "code",
   "execution_count": null,
   "id": "13dce50d-ab6b-4dcf-9cb6-e7a5eed48956",
   "metadata": {},
   "outputs": [],
   "source": [
    "# Set a desired frequency range for Diameter Correction Method fitting\n",
    "fit_range = '6.7625-6.7635GHz'\n",
    "DCM_6G763, param = DCM_fit(removed_6G763[fit_range])\n",
    "param"
   ]
  },
  {
   "cell_type": "code",
   "execution_count": null,
   "id": "be194559-196b-425c-b006-390a6e2ff5e6",
   "metadata": {},
   "outputs": [],
   "source": [
    "# Plot fitting results\n",
    "removed_6G763[fit_range].plot_s_mag(ls='', marker = '.', ms=3)\n",
    "DCM_6G763.plot_s_mag()"
   ]
  },
  {
   "cell_type": "code",
   "execution_count": null,
   "id": "20ff0e7b-6952-47ad-91f2-757d7ed43d81",
   "metadata": {},
   "outputs": [],
   "source": [
    "plt.figure(figsize = (4,4))\n",
    "removed_6G763[fit_range].plot_s_complex(ls='', marker = '.', ms=5)\n",
    "DCM_6G763.plot_s_complex()\n",
    "plt.ylim(-0.008,0.008)\n",
    "plt.xlim(-0.008+0.005,0.008+0.005)\n",
    "plt.show()"
   ]
  }
 ],
 "metadata": {
  "kernelspec": {
   "display_name": "Python 3 (ipykernel)",
   "language": "python",
   "name": "python3"
  },
  "language_info": {
   "codemirror_mode": {
    "name": "ipython",
    "version": 3
   },
   "file_extension": ".py",
   "mimetype": "text/x-python",
   "name": "python",
   "nbconvert_exporter": "python",
   "pygments_lexer": "ipython3",
   "version": "3.9.12"
  }
 },
 "nbformat": 4,
 "nbformat_minor": 5
}
